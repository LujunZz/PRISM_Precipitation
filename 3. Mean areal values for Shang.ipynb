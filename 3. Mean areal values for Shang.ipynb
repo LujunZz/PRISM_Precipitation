{
 "cells": [
  {
   "cell_type": "code",
   "execution_count": 1,
   "metadata": {},
   "outputs": [],
   "source": [
    "################################################################\n",
    "# Scirpt_Name: Mean_Areal_Value.py                             #\n",
    "# Purpose(s): 1. Looping through all selected watersheds       #\n",
    "#                Shp file                                      #\n",
    "#             2. Looping through all GeoTIFF PET data-sets     # \n",
    "#             2. Masking all GeoTIFF PET data-sets with Shp    #\n",
    "#                files, and concatenating into one inified     #\n",
    "#                .NC file                                      #\n",
    "#             3.Calculating the mean areal value time series   #\n",
    "#               for each selected watersheds and save the file #\n",
    "#               at local disk in .CSV format                   #\n",
    "################################################################\n",
    "# Written by Lujun Zhang @ U of Oklahoma 03/31/2020            #\n",
    "# REVISION HISTORY                                             #\n",
    "# 20200331 -- Initial version completed by Lujun @ OU          #\n",
    "################################################################\n",
    "# Requie packages: Numpy, Pandas, necCDF4, GDAL                #\n",
    "################################################################"
   ]
  },
  {
   "cell_type": "code",
   "execution_count": 2,
   "metadata": {},
   "outputs": [],
   "source": [
    "import numpy as np\n",
    "import numpy.ma as ma\n",
    "import pandas as pd\n",
    "from datetime import timedelta\n",
    "import sys\n",
    "import os\n",
    "import time\n",
    "import datetime\n",
    "from netCDF4 import Dataset  \n",
    "from osgeo import gdal, ogr\n",
    "import matplotlib.pyplot as plt\n",
    "import matplotlib as mpl \n",
    "from mpl_toolkits.basemap import Basemap\n",
    "from mpl_toolkits.basemap import interp\n",
    "from multiprocessing import Pool\n",
    "from ftplib import FTP\n",
    "import gdal"
   ]
  },
  {
   "cell_type": "code",
   "execution_count": null,
   "metadata": {},
   "outputs": [],
   "source": [
    "###########################################################################\n",
    "## Before anything Remerber to make sure the long & latitude between     ##\n",
    "#  input shapefile and PET dataset are consistent with each other         #\n",
    "##-----------------------------------------------------------------------##\n",
    "#  Here we do not modify either GeoTiff data-sets' longitude or shpfiles' #\n",
    "#  Longitude since they all have the same range of [-180,180] which are   #\n",
    "#  consistent with each other already                                     #\n",
    "##-----------------------------------------------------------------------##\n",
    "# However such shifting processes could be done using the 'ogr2ogr'       #\n",
    "# package within the command line window. The example code with the       #\n",
    "# purpose of shifing 'Mill.shp' is shown below:                           ###############################\n",
    "# ogr2ogr Mill_Shifted.shp Mill.shp -dialect sqlite -sql \"SELECT ShiftCoords(geometry,360,0) FROM Mill\" #\n",
    "#########################################################################################################"
   ]
  },
  {
   "cell_type": "code",
   "execution_count": 8,
   "metadata": {},
   "outputs": [],
   "source": [
    "def ReadGeoTiff(Fname):\n",
    "    #import gdal\n",
    "    gdal.GetDriverByName('GTiff').Register()\n",
    "    img = gdal.Open(Fname)\n",
    "    geotransform = img.GetGeoTransform()\n",
    "    band = img.GetRasterBand(1)\n",
    "    data = band.ReadAsArray()\n",
    "    \n",
    "    return data, geotransform"
   ]
  },
  {
   "cell_type": "code",
   "execution_count": 6,
   "metadata": {},
   "outputs": [],
   "source": [
    "img = gdal.Open('C:/users/zhan0101/desktop/20200331 PET/Sycamore/ra20010101.tif')"
   ]
  },
  {
   "cell_type": "code",
   "execution_count": 7,
   "metadata": {},
   "outputs": [
    {
     "data": {
      "text/plain": [
       "<osgeo.gdal.Dataset; proxy of <Swig Object of type 'GDALDatasetShadow *' at 0x00000202C61A7AE0> >"
      ]
     },
     "execution_count": 7,
     "metadata": {},
     "output_type": "execute_result"
    }
   ],
   "source": [
    "img"
   ]
  },
  {
   "cell_type": "code",
   "execution_count": 9,
   "metadata": {},
   "outputs": [
    {
     "data": {
      "text/plain": [
       "(array([[0.87      , 0.7       , 0.63      ],\n",
       "        [0.77      , 0.71999997, 0.65999997],\n",
       "        [1.43      , 1.41      , 0.96999997],\n",
       "        [1.54      , 1.1       , 1.06      ]], dtype=float32),\n",
       " (-113.5, 1.0, 0.0, 36.5, 0.0, -1.0))"
      ]
     },
     "execution_count": 9,
     "metadata": {},
     "output_type": "execute_result"
    }
   ],
   "source": [
    "ReadGeoTiff('C:/users/zhan0101/desktop/20200331 PET/Sycamore/ra20010101.tif')"
   ]
  },
  {
   "cell_type": "code",
   "execution_count": null,
   "metadata": {},
   "outputs": [],
   "source": [
    "# Clipping NMME Members Using shapefile\n",
    "def GeoTIFF_Mask(GeoInput,ShpFileDirec):\n",
    "    '''\n",
    "    1) This function:\n",
    "    - clipping & Masking the origional GeoTIFF dataset accorindg to \n",
    "      a certain given input shapefile;\n",
    "    - returns a masked Numpy Array over desired region\n",
    "    2) The input elements are explainted below:\n",
    "    - GeoInput: a GeoTIFF Dataset directory\n",
    "    - ShpFileDirec: Shape file's directory in str format\n",
    "    '''\n",
    "    #read shapefile   \n",
    "    shpDS = ogr.Open(ShpFileDirec)\n",
    "    shpLyr = shpDS.GetLayer()\n",
    "    Envelop = shpLyr.GetExtent() \n",
    "    xmin,xmax,ymin,ymax = [Envelop[0],Envelop[1],Envelop[2],Envelop[3]]    #Your extents as given above\n",
    "    xmin = xmin-0.04168701\n",
    "    xmax = xmax+0.04168701\n",
    "    ymin = ymin-0.041664124\n",
    "    ymax = ymax+0.041664124\n",
    "    mask_RES = []\n",
    "    ######################################################\n",
    "    #           Extract Origin GeoTIFF Data              #\n",
    "    ######################################################\n",
    "    gdal.GetDriverByName('GTiff').Register()\n",
    "    img = gdal.Open(GeoInput)\n",
    "    geotransform = img.GetGeoTransform()\n",
    "    band = img.GetRasterBand(1)\n",
    "    varData_Ori = band.ReadAsArray()\n",
    "    \n",
    "    lon_Ori = sorted(np.arange(originX,originX+pixelWidth*(np.shape(data)[1]-0.001),pixelWidth)+360)\n",
    "    lat_Ori = sorted(np.arange(originY+pixelHeight*(np.shape(data)[0]),originY,-pixelHeight))\n",
    "    lon_Ori = ncInput['Lon'][:]\n",
    "    lat_Ori = ncInput['Lat'][:]\n",
    "    varData_Ori = ncInput['Prec'][:]  \n",
    "    ######################################################\n",
    "    #                   Create mask                      #\n",
    "    ######################################################\n",
    "    if len(mask_RES) == 0 :\n",
    "        #get boundary and xs ys\n",
    "        lat_bnds, lon_bnds = [ymin-0.04, ymax], [xmin-0.04,xmax]\n",
    "        lat_inds = np.where((lat_Ori >= (lat_bnds[0])) & (lat_Ori <= lat_bnds[1]))\n",
    "        lon_inds = np.where((lon_Ori >= (lon_bnds[0])) & (lon_Ori <= lon_bnds[1]))\n",
    "        ncols = len(lon_inds[0])\n",
    "        nrows = len(lat_inds[0])\n",
    "        #nreftime = len(ref_Ori)\n",
    "        #create geotransform\n",
    "        xres = (xmax - xmin) / float(ncols)\n",
    "        yres = (ymax - ymin) / float(nrows)\n",
    "        geotransform = (xmin,xres,0,ymax,0,-yres)\n",
    "        #create mask\n",
    "        mask_DS = gdal.GetDriverByName('MEM').Create('', ncols, nrows, 1 ,gdal.GDT_Int32)\n",
    "        mask_RB = mask_DS.GetRasterBand(1)\n",
    "        mask_RB.Fill(0) #initialise raster with zeros\n",
    "        mask_RB.SetNoDataValue(-32767)\n",
    "        mask_DS.SetGeoTransform(geotransform)\n",
    "        maskvalue = 1\n",
    "        err = gdal.RasterizeLayer(mask_DS, [maskvalue], shpLyr)\n",
    "        mask_DS.FlushCache()\n",
    "        mask_array = mask_DS.GetRasterBand(1).ReadAsArray()    \n",
    "        mask_RES = ma.masked_equal(mask_array, 255)          \n",
    "        ma.set_fill_value(mask_RES, -32767)\n",
    "        mask = np.expand_dims(np.logical_not(np.flipud(mask_RES.mask)),0)\n",
    "    ######################################################\n",
    "    #                     Set Mask                       #\n",
    "    ######################################################   \n",
    "    var_subset = varData_Ori[:, min(lat_inds[0]):max(lat_inds[0])+1, min(lon_inds[0]):max(lon_inds[0])+1]\n",
    "    var_subset.__setmask__(mask) # update mask (flipud is reverse 180)\n",
    "    lat_subset = lat_Ori[lat_inds] \n",
    "    lon_subset = lon_Ori[lon_inds]\n",
    "        \n",
    "\n",
    "    return var_subset, lon_subset, lat_subset"
   ]
  },
  {
   "cell_type": "code",
   "execution_count": 56,
   "metadata": {
    "scrolled": true
   },
   "outputs": [],
   "source": [
    "# Shapefile information specification\n",
    "SHP_Names = ['Delaware_Shifted.shp','Mill_Shifted.shp','Sycamore_Shifted.shp','Wimberly_Shifted.shp']\n",
    "Names = ['Delaware/','Mill/','Sycamore/','Wimberly/']\n",
    "Add_pt1 = 'C:/users/zhan0101/Desktop/20200331 PET/'\n",
    "for i in SHP_Names:\n",
    "    path = Add_pt1+i[:-12]+'/'\n",
    "    path_list = os.listdir(path)\n",
    "    data = np.zeros(np.shape(path_list)[0])\n",
    "    for j in range(np.size(path_list)):\n",
    "        path_list[j]\n",
    "        file_direc = path+path_list[j]\n",
    "        data_tab = ReadGeoTiff(file_direc)\n",
    "        data_tab = np.mean(data_tab)\n",
    "        data[j] = data_tab\n",
    "    data = pd.DataFrame(data,index=pd.date_range(start='2001/01/01', end='2019/12/07', freq=\"d\"))\n",
    "    data.to_csv(Add_pt1+'PET/'+i[0:-1]+'_PET.csv')"
   ]
  },
  {
   "cell_type": "code",
   "execution_count": 64,
   "metadata": {},
   "outputs": [],
   "source": [
    "Names = ['Delaware/','Mill/','Sycamore/','Wimberly/']\n",
    "Add_pt1 = 'C:/users/Lujun/desktop/2020 Spring Semester/20200323 Collaborative Research/'\n",
    "for i in Names:\n",
    "    path = Add_pt1+'PRISM_Precip/'+i\n",
    "    path_list = os.listdir(path)\n",
    "    data = np.zeros(np.shape(path_list)[0])\n",
    "    for j in range(np.size(path_list)):\n",
    "        path_list[j]\n",
    "        file_direc = path+path_list[j]\n",
    "        data_tab = ReadGeoTiff(file_direc)\n",
    "        data_tab = np.mean(data_tab)\n",
    "        data[j] = data_tab\n",
    "    data = pd.DataFrame(data,index=pd.date_range(start='2001/01/01', end='2019/08/31', freq=\"d\"))\n",
    "    data.to_csv(Add_pt1+'PRISM_Precip/'+i[0:-1]+'_Precip.csv')"
   ]
  },
  {
   "cell_type": "code",
   "execution_count": 59,
   "metadata": {},
   "outputs": [],
   "source": [
    "kk = gdal.Open(file_direc)"
   ]
  },
  {
   "cell_type": "code",
   "execution_count": 62,
   "metadata": {},
   "outputs": [
    {
     "data": {
      "text/plain": [
       "'C:/users/Lujun/desktop/2020 Spring Semester/20200323 Collaborative Research/PRISM_Precip/Delaware/dailyPRISM.zip'"
      ]
     },
     "execution_count": 62,
     "metadata": {},
     "output_type": "execute_result"
    }
   ],
   "source": [
    "file_direc"
   ]
  }
 ],
 "metadata": {
  "kernelspec": {
   "display_name": "Python 3",
   "language": "python",
   "name": "python3"
  },
  "language_info": {
   "codemirror_mode": {
    "name": "ipython",
    "version": 3
   },
   "file_extension": ".py",
   "mimetype": "text/x-python",
   "name": "python",
   "nbconvert_exporter": "python",
   "pygments_lexer": "ipython3",
   "version": "3.7.4"
  }
 },
 "nbformat": 4,
 "nbformat_minor": 4
}
