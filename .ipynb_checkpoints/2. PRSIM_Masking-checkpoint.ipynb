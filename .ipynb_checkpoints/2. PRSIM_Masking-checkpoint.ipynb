{
 "cells": [
  {
   "cell_type": "code",
   "execution_count": null,
   "metadata": {},
   "outputs": [],
   "source": [
    "################################################################\n",
    "# Scirpt_Name: PRISM_Masking.py                                #\n",
    "# Purpose(s): 1. Looping through different year concatenated   #\n",
    "#                daily precipitation data, masking datasets    #\n",
    "#                over watershed of interests.                  #\n",
    "#             2. Concatenate the masked datasets into one file #\n",
    "#                and save at local disk                        #\n",
    "#             3. Optional: Maybe calculate mean areal values   #\n",
    "#                          and transform into .CSV files       #\n",
    "################################################################\n",
    "# Written by Lujun Zhang @ U of Oklahoma 03/29/2020            #\n",
    "# REVISION HISTORY                                             #\n",
    "# 20200329 -- Initial version completed by Lujun @ OU          #\n",
    "################################################################\n",
    "# Requie packages: Numpy, Pandas, necCDF4                      #\n",
    "################################################################"
   ]
  },
  {
   "cell_type": "code",
   "execution_count": null,
   "metadata": {},
   "outputs": [],
   "source": [
    "import numpy as np\n",
    "import numpy.ma as ma\n",
    "import pandas as pd\n",
    "from datetime import timedelta\n",
    "import sys\n",
    "import os\n",
    "import time\n",
    "import datetime\n",
    "from netCDF4 import Dataset  \n",
    "from osgeo import gdal, ogr\n",
    "import matplotlib.pyplot as plt\n",
    "import matplotlib as mpl \n",
    "from mpl_toolkits.basemap import Basemap\n",
    "from mpl_toolkits.basemap import interp\n",
    "from multiprocessing import Pool\n",
    "from ftplib import FTP\n",
    "import gdal"
   ]
  },
  {
   "cell_type": "code",
   "execution_count": null,
   "metadata": {},
   "outputs": [],
   "source": [
    "# Shapefile information specification\n",
    "SHP_Names = ['1.shp','2.shp','3.shp','4.shp']"
   ]
  },
  {
   "cell_type": "code",
   "execution_count": null,
   "metadata": {},
   "outputs": [],
   "source": [
    "year_range = range(1981,2020)\n",
    "for i in SHP_Names:\n",
    "    Input_SHP = 'C:/users/Zhan0101/desktop/20200329 Selected Watersheds/'+i\n",
    "    \n",
    "    for j in year_range:\n",
    "        Input_NC = 'F:/PRISM_Daily_Precipitation/Organized/PRISM_'+str(i)+'_Daily_Precipitation.nc'\n",
    "        Input_NC = Dataset('Input_NC')"
   ]
  }
 ],
 "metadata": {
  "kernelspec": {
   "display_name": "Python 3",
   "language": "python",
   "name": "python3"
  },
  "language_info": {
   "codemirror_mode": {
    "name": "ipython",
    "version": 3
   },
   "file_extension": ".py",
   "mimetype": "text/x-python",
   "name": "python",
   "nbconvert_exporter": "python",
   "pygments_lexer": "ipython3",
   "version": "3.7.4"
  }
 },
 "nbformat": 4,
 "nbformat_minor": 4
}
