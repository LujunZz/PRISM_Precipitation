{
 "cells": [
  {
   "cell_type": "code",
   "execution_count": 51,
   "metadata": {},
   "outputs": [],
   "source": [
    "import numpy as np\n",
    "import numpy.ma as ma\n",
    "import pandas as pd\n",
    "from datetime import timedelta\n",
    "import sys\n",
    "import os\n",
    "import time\n",
    "import datetime\n",
    "from netCDF4 import Dataset  \n",
    "from osgeo import gdal, ogr\n",
    "import matplotlib.pyplot as plt\n",
    "import matplotlib as mpl \n",
    "from mpl_toolkits.basemap import Basemap\n",
    "from mpl_toolkits.basemap import interp\n",
    "from multiprocessing import Pool\n",
    "from ftplib import FTP\n",
    "import gdal"
   ]
  },
  {
   "cell_type": "code",
   "execution_count": 52,
   "metadata": {},
   "outputs": [],
   "source": [
    "def ReadGeoTiff(Fname):\n",
    "    import gdal\n",
    "    gdal.GetDriverByName('GTiff').Register()\n",
    "    img = gdal.Open(Fname)\n",
    "    band = img.GetRasterBand(1)\n",
    "    data = band.ReadAsArray()\n",
    "    \n",
    "    return data"
   ]
  },
  {
   "cell_type": "code",
   "execution_count": 56,
   "metadata": {
    "scrolled": true
   },
   "outputs": [],
   "source": [
    "Names = ['Delaware/','Mill/','Sycamore/','Wimberly/']\n",
    "Add_pt1 = 'C:/users/Lujun/desktop/2020 Spring Semester/20200323 Collaborative Research/'\n",
    "for i in Names:\n",
    "    path = Add_pt1+'PET/'+i\n",
    "    path_list = os.listdir(path)\n",
    "    data = np.zeros(np.shape(path_list)[0])\n",
    "    for j in range(np.size(path_list)):\n",
    "        path_list[j]\n",
    "        file_direc = path+path_list[j]\n",
    "        data_tab = ReadGeoTiff(file_direc)\n",
    "        data_tab = np.mean(data_tab)\n",
    "        data[j] = data_tab\n",
    "    data = pd.DataFrame(data,index=pd.date_range(start='2001/01/01', end='2019/12/07', freq=\"d\"))\n",
    "    data.to_csv(Add_pt1+'PET/'+i[0:-1]+'_PET.csv')"
   ]
  },
  {
   "cell_type": "code",
   "execution_count": 64,
   "metadata": {},
   "outputs": [],
   "source": [
    "Names = ['Delaware/','Mill/','Sycamore/','Wimberly/']\n",
    "Add_pt1 = 'C:/users/Lujun/desktop/2020 Spring Semester/20200323 Collaborative Research/'\n",
    "for i in Names:\n",
    "    path = Add_pt1+'PRISM_Precip/'+i\n",
    "    path_list = os.listdir(path)\n",
    "    data = np.zeros(np.shape(path_list)[0])\n",
    "    for j in range(np.size(path_list)):\n",
    "        path_list[j]\n",
    "        file_direc = path+path_list[j]\n",
    "        data_tab = ReadGeoTiff(file_direc)\n",
    "        data_tab = np.mean(data_tab)\n",
    "        data[j] = data_tab\n",
    "    data = pd.DataFrame(data,index=pd.date_range(start='2001/01/01', end='2019/08/31', freq=\"d\"))\n",
    "    data.to_csv(Add_pt1+'PRISM_Precip/'+i[0:-1]+'_Precip.csv')"
   ]
  },
  {
   "cell_type": "code",
   "execution_count": 59,
   "metadata": {},
   "outputs": [],
   "source": [
    "kk = gdal.Open(file_direc)"
   ]
  },
  {
   "cell_type": "code",
   "execution_count": 62,
   "metadata": {},
   "outputs": [
    {
     "data": {
      "text/plain": [
       "'C:/users/Lujun/desktop/2020 Spring Semester/20200323 Collaborative Research/PRISM_Precip/Delaware/dailyPRISM.zip'"
      ]
     },
     "execution_count": 62,
     "metadata": {},
     "output_type": "execute_result"
    }
   ],
   "source": [
    "file_direc"
   ]
  },
  {
   "cell_type": "code",
   "execution_count": 61,
   "metadata": {},
   "outputs": [
    {
     "ename": "AttributeError",
     "evalue": "'NoneType' object has no attribute 'GetRasterBand'",
     "output_type": "error",
     "traceback": [
      "\u001b[1;31m---------------------------------------------------------------------------\u001b[0m",
      "\u001b[1;31mAttributeError\u001b[0m                            Traceback (most recent call last)",
      "\u001b[1;32m<ipython-input-61-4002e7b7ce92>\u001b[0m in \u001b[0;36m<module>\u001b[1;34m\u001b[0m\n\u001b[1;32m----> 1\u001b[1;33m \u001b[0mkk\u001b[0m\u001b[1;33m.\u001b[0m\u001b[0mGetRasterBand\u001b[0m\u001b[1;33m(\u001b[0m\u001b[1;33m)\u001b[0m\u001b[1;33m\u001b[0m\u001b[0m\n\u001b[0m",
      "\u001b[1;31mAttributeError\u001b[0m: 'NoneType' object has no attribute 'GetRasterBand'"
     ]
    }
   ],
   "source": [
    "kk.GetRasterBand()"
   ]
  },
  {
   "cell_type": "code",
   "execution_count": 3,
   "metadata": {},
   "outputs": [],
   "source": [
    "Fname = 'C:/Users/Lujun/Desktop/2020 Spring Semester/20200323 Collaborative Research/PET/Wimberly/ra20010101.tif'"
   ]
  },
  {
   "cell_type": "code",
   "execution_count": 10,
   "metadata": {},
   "outputs": [
    {
     "ename": "TypeError",
     "evalue": "list indices must be integers or slices, not str",
     "output_type": "error",
     "traceback": [
      "\u001b[1;31m---------------------------------------------------------------------------\u001b[0m",
      "\u001b[1;31mTypeError\u001b[0m                                 Traceback (most recent call last)",
      "\u001b[1;32m<ipython-input-10-6164ad26a468>\u001b[0m in \u001b[0;36m<module>\u001b[1;34m\u001b[0m\n\u001b[1;32m----> 1\u001b[1;33m \u001b[0mNames\u001b[0m\u001b[1;33m[\u001b[0m\u001b[0mi\u001b[0m\u001b[1;33m]\u001b[0m\u001b[1;33m\u001b[0m\u001b[0m\n\u001b[0m",
      "\u001b[1;31mTypeError\u001b[0m: list indices must be integers or slices, not str"
     ]
    }
   ],
   "source": [
    "Names[i]"
   ]
  },
  {
   "cell_type": "code",
   "execution_count": 4,
   "metadata": {},
   "outputs": [
    {
     "data": {
      "text/plain": [
       "array([[0.91999996, 0.87      ]], dtype=float32)"
      ]
     },
     "execution_count": 4,
     "metadata": {},
     "output_type": "execute_result"
    }
   ],
   "source": [
    "data"
   ]
  },
  {
   "cell_type": "code",
   "execution_count": 5,
   "metadata": {},
   "outputs": [
    {
     "data": {
      "text/plain": [
       "(-99.5, 1.0, 0.0, 31.5, 0.0, -1.0)"
      ]
     },
     "execution_count": 5,
     "metadata": {},
     "output_type": "execute_result"
    }
   ],
   "source": [
    "geotransform"
   ]
  },
  {
   "cell_type": "code",
   "execution_count": null,
   "metadata": {},
   "outputs": [],
   "source": []
  }
 ],
 "metadata": {
  "kernelspec": {
   "display_name": "Python 3",
   "language": "python",
   "name": "python3"
  },
  "language_info": {
   "codemirror_mode": {
    "name": "ipython",
    "version": 3
   },
   "file_extension": ".py",
   "mimetype": "text/x-python",
   "name": "python",
   "nbconvert_exporter": "python",
   "pygments_lexer": "ipython3",
   "version": "3.7.4"
  }
 },
 "nbformat": 4,
 "nbformat_minor": 4
}
